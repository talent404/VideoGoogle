{
 "cells": [
  {
   "cell_type": "code",
   "execution_count": null,
   "metadata": {
    "autoscroll": false,
    "collapsed": false,
    "ein.tags": "worksheet-0",
    "slideshow": {
     "slide_type": "-"
    }
   },
   "outputs": [],
   "source": [
    "import cv2\n",
    "import numpy as np\n",
    "import os"
   ]
  },
  {
   "cell_type": "code",
   "execution_count": null,
   "metadata": {
    "autoscroll": false,
    "collapsed": false,
    "ein.tags": "worksheet-0",
    "slideshow": {
     "slide_type": "-"
    }
   },
   "outputs": [],
   "source": [
    "images = []\n",
    "descs = []\n",
    "descriptors = np.array([])\n",
    "\n",
    "for i in os.listdir('output'):\n",
    "    img = cv2.imread('output/'+i)\n",
    "    gray = cv2.cvtColor(img, cv2.COLOR_BGR2GRAY)\n",
    "    sift = cv2.xfeatures2d.SIFT_create()\n",
    "    kp, des = sift.detectAndCompute(gray, None)\n",
    "    print(i)\n",
    "    if des is None:\n",
    "        continue\n",
    "    images.append(i)\n",
    "    descs.append(des)\n",
    "    if descriptors.shape != (0,): \n",
    "        descriptors = np.vstack((descriptors, des))\n",
    "    else:\n",
    "        descriptors = des\n"
   ]
  },
  {
   "cell_type": "code",
   "execution_count": null,
   "metadata": {
    "autoscroll": false,
    "collapsed": false,
    "ein.tags": "worksheet-0",
    "scrolled": true,
    "slideshow": {
     "slide_type": "-"
    }
   },
   "outputs": [],
   "source": [
    "criteria = (cv2.TERM_CRITERIA_EPS + cv2.TERM_CRITERIA_MAX_ITER, 10, 1.0)\n",
    "desc = np.float32(descriptors)\n",
    "ret, label, center = cv2.kmeans(desc,200,None,criteria,10,cv2.KMEANS_RANDOM_CENTERS)"
   ]
  },
  {
   "cell_type": "code",
   "execution_count": null,
   "metadata": {
    "autoscroll": false,
    "collapsed": false,
    "ein.tags": "worksheet-0",
    "slideshow": {
     "slide_type": "-"
    }
   },
   "outputs": [],
   "source": [
    "vecs = []\n",
    "index = 0\n",
    "for i in descs:\n",
    "    temp = np.zeros((200,))\n",
    "    for j in range(index,index+i.shape[0]):\n",
    "        temp[label[j]] += 1\n",
    "    index += len(i)\n",
    "    vecs.append(temp)"
   ]
  },
  {
   "cell_type": "code",
   "execution_count": null,
   "metadata": {
    "autoscroll": false,
    "collapsed": false,
    "ein.tags": "worksheet-0",
    "slideshow": {
     "slide_type": "-"
    }
   },
   "outputs": [],
   "source": [
    "tfidf = []\n",
    "ni = np.sum(np.array(vecs),axis=0)\n",
    "for i in vecs:\n",
    "    temp = np.zeros((200,))\n",
    "    #    nd = np.count_nonzero(i)\n",
    "    nd = np.sum(i)\n",
    "    for j in range(len(i)):\n",
    "        temp[j] = (i[j]/nd)*np.log(len(images)/ni[j])\n",
    "    temp = temp / np.linalg.norm(temp)\n",
    "    tfidf.append(temp)"
   ]
  },
  {
   "cell_type": "code",
   "execution_count": null,
   "metadata": {
    "autoscroll": false,
    "collapsed": false,
    "ein.tags": "worksheet-0",
    "slideshow": {
     "slide_type": "-"
    }
   },
   "outputs": [],
   "source": [
    "from scipy import spatial\n",
    "tree = spatial.KDTree(center)\n",
    "input_image = cv2.imread('input/input.png')\n",
    "gray_input = cv2.cvtColor(input_image, cv2.COLOR_BGR2GRAY)\n",
    "kp, input_descriptors = sift.detectAndCompute(gray_input, None)\n",
    "input_vec = np.zeros((200,))\n",
    "for i in input_descriptors:\n",
    "    j = tree.query(i)\n",
    "    input_vec[j[1]] += 1\n",
    "input_tfidf = np.zeros((200,))\n",
    "for i in range(len(input_vec)):\n",
    "    input_tfidf[i] = (input_vec[i]/np.sum(input_vec))*np.log(len(images)/ni[i])\n",
    "input_tfidf = input_tfidf / np.linalg.norm(input_tfidf)\n",
    "\n",
    "    \n",
    "    \n"
   ]
  },
  {
   "cell_type": "code",
   "execution_count": null,
   "metadata": {
    "autoscroll": false,
    "collapsed": false,
    "ein.tags": "worksheet-0",
    "slideshow": {
     "slide_type": "-"
    }
   },
   "outputs": [],
   "source": [
    "min_dot = []\n",
    "for i in tfidf:\n",
    "    min_dot.append(np.dot(i,input_tfidf))\n",
    "min_dot = np.array(min_dot)\n",
    "print(min_dot.argsort()[-3:][::-1])\n",
    "for i in min_dot.argsort()[-3:][::-1]:\n",
    "    print(images[i])"
   ]
  }
 ],
 "metadata": {
  "kernelspec": {
   "display_name": "Python 3",
   "name": "python3"
  },
  "language_info": {
   "codemirror_mode": {
    "name": "ipython",
    "version": 3
   },
   "file_extension": ".py",
   "mimetype": "text/x-python",
   "name": "python",
   "nbconvert_exporter": "python",
   "pygments_lexer": "ipython3",
   "version": "3.6.1"
  },
  "name": "VideoGoogle.ipynb"
 },
 "nbformat": 4,
 "nbformat_minor": 2
}
